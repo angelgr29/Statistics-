{
 "cells": [
  {
   "cell_type": "markdown",
   "id": "false-empty",
   "metadata": {},
   "source": [
    "# Prueba de hipotesis\n",
    "#### (ANOVA por bloques)\n",
    "Aquí queremos comprobar  si existe suficiente evidencia estadistica para evidenciar que hay diferencias entre el promedio de las estimaciones de distribicón por generaciones. Es decir, ver si cada generación estima de la misma forma a los quintiles o si existe alguna diferencia. \n",
    "De este modo, \n",
    "$$ H_0: \\beta_1= \\beta_2= \\beta_3 = \\beta_4 $$\n",
    "$$ H_a: \\beta_1 \\neq \\beta_2 \\neq \\beta_3 \\neq \\beta_4 $$"
   ]
  },
  {
   "cell_type": "code",
   "execution_count": 1,
   "id": "combined-forge",
   "metadata": {},
   "outputs": [
    {
     "data": {
      "text/html": [
       "<table>\n",
       "<thead><tr><th scope=col>Bloques</th><th scope=col>y1</th><th scope=col>y2</th><th scope=col>y3</th><th scope=col>y4</th><th scope=col>y5</th></tr></thead>\n",
       "<tbody>\n",
       "\t<tr><td>b1    </td><td> 48.20</td><td>19.60 </td><td>12.60 </td><td>15.00 </td><td> 4.60 </td></tr>\n",
       "\t<tr><td>b2    </td><td> 42.00</td><td>18.60 </td><td>18.80 </td><td>14.10 </td><td> 6.50 </td></tr>\n",
       "\t<tr><td>b3    </td><td> 48.82</td><td>18.00 </td><td>16.06 </td><td>10.24 </td><td> 6.88 </td></tr>\n",
       "\t<tr><td>b4    </td><td> 57.56</td><td>19.61 </td><td>11.17 </td><td> 7.69 </td><td> 3.97 </td></tr>\n",
       "\t<tr><td>Tj    </td><td>196.58</td><td>75.81 </td><td>58.63 </td><td>47.03 </td><td>21.95 </td></tr>\n",
       "</tbody>\n",
       "</table>\n"
      ],
      "text/latex": [
       "\\begin{tabular}{r|llllll}\n",
       " Bloques & y1 & y2 & y3 & y4 & y5\\\\\n",
       "\\hline\n",
       "\t b1     &  48.20 & 19.60  & 12.60  & 15.00  &  4.60 \\\\\n",
       "\t b2     &  42.00 & 18.60  & 18.80  & 14.10  &  6.50 \\\\\n",
       "\t b3     &  48.82 & 18.00  & 16.06  & 10.24  &  6.88 \\\\\n",
       "\t b4     &  57.56 & 19.61  & 11.17  &  7.69  &  3.97 \\\\\n",
       "\t Tj     & 196.58 & 75.81  & 58.63  & 47.03  & 21.95 \\\\\n",
       "\\end{tabular}\n"
      ],
      "text/markdown": [
       "\n",
       "| Bloques | y1 | y2 | y3 | y4 | y5 |\n",
       "|---|---|---|---|---|---|\n",
       "| b1     |  48.20 | 19.60  | 12.60  | 15.00  |  4.60  |\n",
       "| b2     |  42.00 | 18.60  | 18.80  | 14.10  |  6.50  |\n",
       "| b3     |  48.82 | 18.00  | 16.06  | 10.24  |  6.88  |\n",
       "| b4     |  57.56 | 19.61  | 11.17  |  7.69  |  3.97  |\n",
       "| Tj     | 196.58 | 75.81  | 58.63  | 47.03  | 21.95  |\n",
       "\n"
      ],
      "text/plain": [
       "  Bloques y1     y2    y3    y4    y5   \n",
       "1 b1       48.20 19.60 12.60 15.00  4.60\n",
       "2 b2       42.00 18.60 18.80 14.10  6.50\n",
       "3 b3       48.82 18.00 16.06 10.24  6.88\n",
       "4 b4       57.56 19.61 11.17  7.69  3.97\n",
       "5 Tj      196.58 75.81 58.63 47.03 21.95"
      ]
     },
     "metadata": {},
     "output_type": "display_data"
    },
    {
     "data": {
      "text/html": [
       "<table>\n",
       "<thead><tr><th scope=col>Bloques</th><th scope=col>y1</th><th scope=col>y2</th><th scope=col>y3</th><th scope=col>y4</th><th scope=col>y5</th><th scope=col>Ti</th></tr></thead>\n",
       "<tbody>\n",
       "\t<tr><td>b1    </td><td> 48.20</td><td>19.60 </td><td>12.60 </td><td>15.00 </td><td> 4.60 </td><td>100   </td></tr>\n",
       "\t<tr><td>b2    </td><td> 42.00</td><td>18.60 </td><td>18.80 </td><td>14.10 </td><td> 6.50 </td><td>100   </td></tr>\n",
       "\t<tr><td>b3    </td><td> 48.82</td><td>18.00 </td><td>16.06 </td><td>10.24 </td><td> 6.88 </td><td>100   </td></tr>\n",
       "\t<tr><td>b4    </td><td> 57.56</td><td>19.61 </td><td>11.17 </td><td> 7.69 </td><td> 3.97 </td><td>100   </td></tr>\n",
       "\t<tr><td>Tj    </td><td>196.58</td><td>75.81 </td><td>58.63 </td><td>47.03 </td><td>21.95 </td><td>400   </td></tr>\n",
       "</tbody>\n",
       "</table>\n"
      ],
      "text/latex": [
       "\\begin{tabular}{r|lllllll}\n",
       " Bloques & y1 & y2 & y3 & y4 & y5 & Ti\\\\\n",
       "\\hline\n",
       "\t b1     &  48.20 & 19.60  & 12.60  & 15.00  &  4.60  & 100   \\\\\n",
       "\t b2     &  42.00 & 18.60  & 18.80  & 14.10  &  6.50  & 100   \\\\\n",
       "\t b3     &  48.82 & 18.00  & 16.06  & 10.24  &  6.88  & 100   \\\\\n",
       "\t b4     &  57.56 & 19.61  & 11.17  &  7.69  &  3.97  & 100   \\\\\n",
       "\t Tj     & 196.58 & 75.81  & 58.63  & 47.03  & 21.95  & 400   \\\\\n",
       "\\end{tabular}\n"
      ],
      "text/markdown": [
       "\n",
       "| Bloques | y1 | y2 | y3 | y4 | y5 | Ti |\n",
       "|---|---|---|---|---|---|---|\n",
       "| b1     |  48.20 | 19.60  | 12.60  | 15.00  |  4.60  | 100    |\n",
       "| b2     |  42.00 | 18.60  | 18.80  | 14.10  |  6.50  | 100    |\n",
       "| b3     |  48.82 | 18.00  | 16.06  | 10.24  |  6.88  | 100    |\n",
       "| b4     |  57.56 | 19.61  | 11.17  |  7.69  |  3.97  | 100    |\n",
       "| Tj     | 196.58 | 75.81  | 58.63  | 47.03  | 21.95  | 400    |\n",
       "\n"
      ],
      "text/plain": [
       "  Bloques y1     y2    y3    y4    y5    Ti \n",
       "1 b1       48.20 19.60 12.60 15.00  4.60 100\n",
       "2 b2       42.00 18.60 18.80 14.10  6.50 100\n",
       "3 b3       48.82 18.00 16.06 10.24  6.88 100\n",
       "4 b4       57.56 19.61 11.17  7.69  3.97 100\n",
       "5 Tj      196.58 75.81 58.63 47.03 21.95 400"
      ]
     },
     "metadata": {},
     "output_type": "display_data"
    }
   ],
   "source": [
    "#Creemos el data frame\n",
    "k=5                       #numero grupos/tratameintos                   CON Y HACES REEFERENCIA A LOS GRUPOS, NO BLOQUES        \n",
    "b=4                                     #numero de bloques                 \n",
    "alpha=.05                               #significancia\n",
    "\n",
    "y1.=c(48.2,42,48.82,57.56)           #PC. numero de datos en cada grupo          \n",
    "y2.= c(19.6,18.6,18,19.61)        #PC. \n",
    "y3.= c(12.6,18.8,16.06,11.17)\n",
    "y4.=c(15,14.1,10.24,7.69)\n",
    "y5.=c(4.6,6.5,6.88,3.97)\n",
    "\n",
    "y1= c(y1.,sum(y1.[1:b]))       \n",
    "y2= c(y2.,sum(y2.[1:b]))              #RECUERDA        QUE TIENES QUE AÑADIR Y3,Y4 HASTA K GRUPOS\n",
    "y3= c(y3.,sum(y3.[1:b])) \n",
    "y4= c(y4.,sum(y4.[1:b]))\n",
    "y5= c(y5.,sum(y5.[1:b]))\n",
    "Bloques= c(\"b1\",\"b2\",\"b3\",\"b4\",\"Tj\")    ##PC El nombre de los bloques\n",
    "df.=data.frame(Bloques,y1,y2,y3,y4,y5)           ##Nombre de las columnas hasta y_k\n",
    "df.\n",
    "Ti=c(df.$y1+y2+y3+y4+y5)                         ##La suma de las yi\n",
    "\n",
    "df=data.frame(Bloques,y1,y2,y3,y4,y5,Ti)         ###Solo añades los yi             \n",
    "df\n",
    "ti=df$Ti[1:b]                                    \n",
    "\n",
    "tj=unlist(c(tail(df[2:4],1)))          #solo pones df[2:k-1] Esto porque el ultimo elemento es una suma\n",
    "\n",
    "T=tail(Ti,1)\n",
    "\n",
    "yij=c(y1[1:b],y2[1:b],y3[1:b],y4[1:b],y5[1:b])       #añades yi[1:b]                     \n",
    "\n",
    "\n",
    "\n",
    "            \n"
   ]
  },
  {
   "cell_type": "code",
   "execution_count": 2,
   "id": "annual-glossary",
   "metadata": {},
   "outputs": [
    {
     "data": {
      "text/html": [
       "3957.08235000001"
      ],
      "text/latex": [
       "3957.08235000001"
      ],
      "text/markdown": [
       "3957.08235000001"
      ],
      "text/plain": [
       "[1] 3957.082"
      ]
     },
     "metadata": {},
     "output_type": "display_data"
    }
   ],
   "source": [
    "#Primero a calcular la SSTR\n",
    "SSTR= sum((tj^2)/b)-T^2/(b*k)\n",
    "SSTR"
   ]
  },
  {
   "cell_type": "code",
   "execution_count": 3,
   "id": "biological-process",
   "metadata": {},
   "outputs": [
    {
     "data": {
      "text/html": [
       "1.81898940354586e-12"
      ],
      "text/latex": [
       "1.81898940354586e-12"
      ],
      "text/markdown": [
       "1.81898940354586e-12"
      ],
      "text/plain": [
       "[1] 1.818989e-12"
      ]
     },
     "metadata": {},
     "output_type": "display_data"
    }
   ],
   "source": [
    "#Ahora calculemos la SSB\n",
    "SSB= sum(ti^2/k)-T^2/(b*k)\n",
    "SSB"
   ]
  },
  {
   "cell_type": "code",
   "execution_count": 4,
   "id": "formal-hudson",
   "metadata": {},
   "outputs": [
    {
     "data": {
      "text/html": [
       "4831.6596"
      ],
      "text/latex": [
       "4831.6596"
      ],
      "text/markdown": [
       "4831.6596"
      ],
      "text/plain": [
       "[1] 4831.66"
      ]
     },
     "metadata": {},
     "output_type": "display_data"
    }
   ],
   "source": [
    "#Ahora calculemos la SSTOT\n",
    "SSTOT=sum(yij^2)-T^2/(b*k)\n",
    "SSTOT"
   ]
  },
  {
   "cell_type": "code",
   "execution_count": 5,
   "id": "electric-newfoundland",
   "metadata": {},
   "outputs": [
    {
     "data": {
      "text/html": [
       "874.577249999997"
      ],
      "text/latex": [
       "874.577249999997"
      ],
      "text/markdown": [
       "874.577249999997"
      ],
      "text/plain": [
       "[1] 874.5772"
      ]
     },
     "metadata": {},
     "output_type": "display_data"
    }
   ],
   "source": [
    "#Calculemos la SSE\n",
    "SSE= SSTOT-SSTR-SSB\n",
    "SSE"
   ]
  },
  {
   "cell_type": "code",
   "execution_count": 6,
   "id": "graphic-reggae",
   "metadata": {},
   "outputs": [
    {
     "data": {
      "text/html": [
       "989.270587500001"
      ],
      "text/latex": [
       "989.270587500001"
      ],
      "text/markdown": [
       "989.270587500001"
      ],
      "text/plain": [
       "[1] 989.2706"
      ]
     },
     "metadata": {},
     "output_type": "display_data"
    },
    {
     "data": {
      "text/html": [
       "6.06329801181952e-13"
      ],
      "text/latex": [
       "6.06329801181952e-13"
      ],
      "text/markdown": [
       "6.06329801181952e-13"
      ],
      "text/plain": [
       "[1] 6.063298e-13"
      ]
     },
     "metadata": {},
     "output_type": "display_data"
    },
    {
     "data": {
      "text/html": [
       "72.8814374999997"
      ],
      "text/latex": [
       "72.8814374999997"
      ],
      "text/markdown": [
       "72.8814374999997"
      ],
      "text/plain": [
       "[1] 72.88144"
      ]
     },
     "metadata": {},
     "output_type": "display_data"
    }
   ],
   "source": [
    "#LOS MS O MEAN SQ\n",
    "MSTR=SSTR/(k-1)\n",
    "MSB=SSB/(b-1)\n",
    "MSE=SSE/((b-1)*(k-1))\n",
    "MSTR\n",
    "MSB\n",
    "MSE"
   ]
  },
  {
   "cell_type": "code",
   "execution_count": 7,
   "id": "greater-export",
   "metadata": {},
   "outputs": [
    {
     "data": {
      "text/html": [
       "13.5736975207165"
      ],
      "text/latex": [
       "13.5736975207165"
      ],
      "text/markdown": [
       "13.5736975207165"
      ],
      "text/plain": [
       "[1] 13.5737"
      ]
     },
     "metadata": {},
     "output_type": "display_data"
    },
    {
     "data": {
      "text/html": [
       "8.31939958898251e-15"
      ],
      "text/latex": [
       "8.31939958898251e-15"
      ],
      "text/markdown": [
       "8.31939958898251e-15"
      ],
      "text/plain": [
       "[1] 8.3194e-15"
      ]
     },
     "metadata": {},
     "output_type": "display_data"
    }
   ],
   "source": [
    "#Los valores de F\n",
    "F1=  MSTR/MSE  #Para ver si las medias de los grupos son iguales\n",
    "F2=    MSB/MSE##Para ver si las medias entre bloques son iguales\n",
    "F1\n",
    "F2"
   ]
  },
  {
   "cell_type": "code",
   "execution_count": 8,
   "id": "suited-folder",
   "metadata": {},
   "outputs": [
    {
     "data": {
      "text/html": [
       "3.25916672690125"
      ],
      "text/latex": [
       "3.25916672690125"
      ],
      "text/markdown": [
       "3.25916672690125"
      ],
      "text/plain": [
       "[1] 3.259167"
      ]
     },
     "metadata": {},
     "output_type": "display_data"
    },
    {
     "data": {
      "text/html": [
       "3.4902948194976"
      ],
      "text/latex": [
       "3.4902948194976"
      ],
      "text/markdown": [
       "3.4902948194976"
      ],
      "text/plain": [
       "[1] 3.490295"
      ]
     },
     "metadata": {},
     "output_type": "display_data"
    }
   ],
   "source": [
    "##Calculemos la f de tablas\n",
    "f1=qf(1-alpha,k-1,(b-1)*(k-1))\n",
    "f2=qf(1-alpha,b-1,(b-1)*(k-1))\n",
    "f1\n",
    "f2"
   ]
  },
  {
   "cell_type": "code",
   "execution_count": 9,
   "id": "covered-fighter",
   "metadata": {},
   "outputs": [
    {
     "data": {
      "text/html": [
       "TRUE"
      ],
      "text/latex": [
       "TRUE"
      ],
      "text/markdown": [
       "TRUE"
      ],
      "text/plain": [
       "[1] TRUE"
      ]
     },
     "metadata": {},
     "output_type": "display_data"
    },
    {
     "data": {
      "text/html": [
       "FALSE"
      ],
      "text/latex": [
       "FALSE"
      ],
      "text/markdown": [
       "FALSE"
      ],
      "text/plain": [
       "[1] FALSE"
      ]
     },
     "metadata": {},
     "output_type": "display_data"
    }
   ],
   "source": [
    "##Ahora veamos si rechazamos nuestras hipotesis nulas. \n",
    "#Estas se rechazan si Fi>fi. Si esto ocurre podemos decir que \n",
    "#las medias de los grupos y de los bloques son estadisticamente distintas\n",
    "F1>f1  #sobre quintiles\n",
    "F2>f2 #sobre generaciones\n"
   ]
  },
  {
   "cell_type": "markdown",
   "id": "pretty-campbell",
   "metadata": {},
   "source": [
    "### Conclusiones.\n",
    "(rechazo hipotesis nula de que $\\mu_i = \\mu_j $ )\n",
    "\n",
    "Como era evidente, con un 95% de confianza podemos decir que existe suficiente evidencia estadística para afirmar que existen diferencias entre las estimaciones de distribucion de los ingresos de Mexico por quintil. Es decir, los promedios de las distribuciones de los ingresos es distinta entre cada quintil. Pues tiende a decrecer al porcentaje desde el primer al ultimo quintil.\n",
    "\n",
    "(acepto Hipotesis nula de que $\\beta_i = \\beta_j$)\n",
    "\n",
    "Además, resulta interesante que con 95% de confianza podemos afirmar que el promedio de estimaciones de distribucion de los ingresos por quintil es igual entre generaiones. Es decir, a pesar de las diferencias de edad existe consenso en cuanto a la forma en la que las generaciones estiman que se distribuyen los ingresos en Mexico."
   ]
  }
 ],
 "metadata": {
  "kernelspec": {
   "display_name": "R",
   "language": "R",
   "name": "ir"
  },
  "language_info": {
   "codemirror_mode": "r",
   "file_extension": ".r",
   "mimetype": "text/x-r-source",
   "name": "R",
   "pygments_lexer": "r",
   "version": "3.6.1"
  }
 },
 "nbformat": 4,
 "nbformat_minor": 5
}
