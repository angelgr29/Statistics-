{
 "cells": [
  {
   "cell_type": "markdown",
   "id": "false-empty",
   "metadata": {},
   "source": [
    "# Prueba de hipotesis\n",
    "#### (ANOVA por bloques)\n",
    "Aqui queremos comprobar si es que son iguales los promedios de la estimación de la distribucion entre cada estudiante. Es interesante para saber si ,en promedio, los estudiantes mexicanos estiman del mismo modo la distribucion de los ingresos en su pais.\n",
    "De este modo, \n",
    "$$ H_0: \\beta_1= \\beta_2= \\beta_3 = \\beta_4 $$\n",
    "$$ H_a: \\beta_1 \\neq \\beta_2 \\neq \\beta_3 \\neq \\beta_4 $$"
   ]
  },
  {
   "cell_type": "code",
   "execution_count": 1,
   "id": "combined-forge",
   "metadata": {},
   "outputs": [
    {
     "data": {
      "text/html": [
       "<table>\n",
       "<thead><tr><th scope=col>Bloques</th><th scope=col>y1</th><th scope=col>y2</th><th scope=col>y3</th><th scope=col>y4</th><th scope=col>y5</th><th scope=col>Ti</th></tr></thead>\n",
       "<tbody>\n",
       "\t<tr><td>b1   </td><td> 60  </td><td> 18  </td><td> 12  </td><td>  7.0</td><td> 3.0 </td><td> 100 </td></tr>\n",
       "\t<tr><td>b2   </td><td> 60  </td><td> 15  </td><td> 15  </td><td>  8.0</td><td> 2.0 </td><td> 100 </td></tr>\n",
       "\t<tr><td>b3   </td><td> 50  </td><td> 20  </td><td> 15  </td><td> 10.0</td><td> 5.0 </td><td> 100 </td></tr>\n",
       "\t<tr><td>b4   </td><td> 60  </td><td> 15  </td><td> 10  </td><td> 10.0</td><td> 5.0 </td><td> 100 </td></tr>\n",
       "\t<tr><td>b5   </td><td> 56  </td><td> 17  </td><td> 10  </td><td> 10.0</td><td> 7.0 </td><td> 100 </td></tr>\n",
       "\t<tr><td>b6   </td><td> 64  </td><td> 18  </td><td>  9  </td><td>  5.0</td><td> 4.0 </td><td> 100 </td></tr>\n",
       "\t<tr><td>b7   </td><td> 54  </td><td>  9  </td><td> 13  </td><td> 19.0</td><td> 5.0 </td><td> 100 </td></tr>\n",
       "\t<tr><td>b8   </td><td> 60  </td><td> 20  </td><td> 10  </td><td>  8.0</td><td> 2.0 </td><td> 100 </td></tr>\n",
       "\t<tr><td>b9   </td><td> 65  </td><td> 15  </td><td> 15  </td><td>  4.0</td><td> 1.0 </td><td> 100 </td></tr>\n",
       "\t<tr><td>b10  </td><td> 20  </td><td> 30  </td><td> 24  </td><td> 18.0</td><td> 8.0 </td><td> 100 </td></tr>\n",
       "\t<tr><td>b11  </td><td> 40  </td><td> 20  </td><td> 30  </td><td>  7.0</td><td> 3.0 </td><td> 100 </td></tr>\n",
       "\t<tr><td>b12  </td><td> 60  </td><td> 20  </td><td> 10  </td><td>  7.0</td><td> 3.0 </td><td> 100 </td></tr>\n",
       "\t<tr><td>b13  </td><td> 60  </td><td> 35  </td><td>  3  </td><td>  1.5</td><td> 0.5 </td><td> 100 </td></tr>\n",
       "\t<tr><td>b14  </td><td> 60  </td><td> 20  </td><td> 10  </td><td>  8.0</td><td> 2.0 </td><td> 100 </td></tr>\n",
       "\t<tr><td>b15  </td><td> 40  </td><td> 25  </td><td> 15  </td><td> 10.0</td><td>10.0 </td><td> 100 </td></tr>\n",
       "\t<tr><td>b16  </td><td> 55  </td><td> 20  </td><td> 10  </td><td> 10.0</td><td> 5.0 </td><td> 100 </td></tr>\n",
       "\t<tr><td>b17  </td><td> 66  </td><td> 20  </td><td> 10  </td><td>  2.0</td><td> 2.0 </td><td> 100 </td></tr>\n",
       "\t<tr><td>b18  </td><td> 60  </td><td> 20  </td><td>  8  </td><td>  7.0</td><td> 5.0 </td><td> 100 </td></tr>\n",
       "\t<tr><td>Tj   </td><td>990  </td><td>357  </td><td>229  </td><td>151.5</td><td>72.5 </td><td>1800 </td></tr>\n",
       "</tbody>\n",
       "</table>\n"
      ],
      "text/latex": [
       "\\begin{tabular}{r|lllllll}\n",
       " Bloques & y1 & y2 & y3 & y4 & y5 & Ti\\\\\n",
       "\\hline\n",
       "\t b1    &  60   &  18   &  12   &   7.0 &  3.0  &  100 \\\\\n",
       "\t b2    &  60   &  15   &  15   &   8.0 &  2.0  &  100 \\\\\n",
       "\t b3    &  50   &  20   &  15   &  10.0 &  5.0  &  100 \\\\\n",
       "\t b4    &  60   &  15   &  10   &  10.0 &  5.0  &  100 \\\\\n",
       "\t b5    &  56   &  17   &  10   &  10.0 &  7.0  &  100 \\\\\n",
       "\t b6    &  64   &  18   &   9   &   5.0 &  4.0  &  100 \\\\\n",
       "\t b7    &  54   &   9   &  13   &  19.0 &  5.0  &  100 \\\\\n",
       "\t b8    &  60   &  20   &  10   &   8.0 &  2.0  &  100 \\\\\n",
       "\t b9    &  65   &  15   &  15   &   4.0 &  1.0  &  100 \\\\\n",
       "\t b10   &  20   &  30   &  24   &  18.0 &  8.0  &  100 \\\\\n",
       "\t b11   &  40   &  20   &  30   &   7.0 &  3.0  &  100 \\\\\n",
       "\t b12   &  60   &  20   &  10   &   7.0 &  3.0  &  100 \\\\\n",
       "\t b13   &  60   &  35   &   3   &   1.5 &  0.5  &  100 \\\\\n",
       "\t b14   &  60   &  20   &  10   &   8.0 &  2.0  &  100 \\\\\n",
       "\t b15   &  40   &  25   &  15   &  10.0 & 10.0  &  100 \\\\\n",
       "\t b16   &  55   &  20   &  10   &  10.0 &  5.0  &  100 \\\\\n",
       "\t b17   &  66   &  20   &  10   &   2.0 &  2.0  &  100 \\\\\n",
       "\t b18   &  60   &  20   &   8   &   7.0 &  5.0  &  100 \\\\\n",
       "\t Tj    & 990   & 357   & 229   & 151.5 & 72.5  & 1800 \\\\\n",
       "\\end{tabular}\n"
      ],
      "text/markdown": [
       "\n",
       "| Bloques | y1 | y2 | y3 | y4 | y5 | Ti |\n",
       "|---|---|---|---|---|---|---|\n",
       "| b1    |  60   |  18   |  12   |   7.0 |  3.0  |  100  |\n",
       "| b2    |  60   |  15   |  15   |   8.0 |  2.0  |  100  |\n",
       "| b3    |  50   |  20   |  15   |  10.0 |  5.0  |  100  |\n",
       "| b4    |  60   |  15   |  10   |  10.0 |  5.0  |  100  |\n",
       "| b5    |  56   |  17   |  10   |  10.0 |  7.0  |  100  |\n",
       "| b6    |  64   |  18   |   9   |   5.0 |  4.0  |  100  |\n",
       "| b7    |  54   |   9   |  13   |  19.0 |  5.0  |  100  |\n",
       "| b8    |  60   |  20   |  10   |   8.0 |  2.0  |  100  |\n",
       "| b9    |  65   |  15   |  15   |   4.0 |  1.0  |  100  |\n",
       "| b10   |  20   |  30   |  24   |  18.0 |  8.0  |  100  |\n",
       "| b11   |  40   |  20   |  30   |   7.0 |  3.0  |  100  |\n",
       "| b12   |  60   |  20   |  10   |   7.0 |  3.0  |  100  |\n",
       "| b13   |  60   |  35   |   3   |   1.5 |  0.5  |  100  |\n",
       "| b14   |  60   |  20   |  10   |   8.0 |  2.0  |  100  |\n",
       "| b15   |  40   |  25   |  15   |  10.0 | 10.0  |  100  |\n",
       "| b16   |  55   |  20   |  10   |  10.0 |  5.0  |  100  |\n",
       "| b17   |  66   |  20   |  10   |   2.0 |  2.0  |  100  |\n",
       "| b18   |  60   |  20   |   8   |   7.0 |  5.0  |  100  |\n",
       "| Tj    | 990   | 357   | 229   | 151.5 | 72.5  | 1800  |\n",
       "\n"
      ],
      "text/plain": [
       "   Bloques y1  y2  y3  y4    y5   Ti  \n",
       "1  b1       60  18  12   7.0  3.0  100\n",
       "2  b2       60  15  15   8.0  2.0  100\n",
       "3  b3       50  20  15  10.0  5.0  100\n",
       "4  b4       60  15  10  10.0  5.0  100\n",
       "5  b5       56  17  10  10.0  7.0  100\n",
       "6  b6       64  18   9   5.0  4.0  100\n",
       "7  b7       54   9  13  19.0  5.0  100\n",
       "8  b8       60  20  10   8.0  2.0  100\n",
       "9  b9       65  15  15   4.0  1.0  100\n",
       "10 b10      20  30  24  18.0  8.0  100\n",
       "11 b11      40  20  30   7.0  3.0  100\n",
       "12 b12      60  20  10   7.0  3.0  100\n",
       "13 b13      60  35   3   1.5  0.5  100\n",
       "14 b14      60  20  10   8.0  2.0  100\n",
       "15 b15      40  25  15  10.0 10.0  100\n",
       "16 b16      55  20  10  10.0  5.0  100\n",
       "17 b17      66  20  10   2.0  2.0  100\n",
       "18 b18      60  20   8   7.0  5.0  100\n",
       "19 Tj      990 357 229 151.5 72.5 1800"
      ]
     },
     "metadata": {},
     "output_type": "display_data"
    }
   ],
   "source": [
    "#Creemos el data frame\n",
    "k=5                       #numero grupos/tratameintos                   CON y HACES REEFERENCIA A LOS GRUPOS, NO BLOQUES        \n",
    "b=18                                     #numero de bloques                 \n",
    "alpha=.05                               #significancia\n",
    "\n",
    "y1.=c(60,60,50,60,56,64,54,60,65,20,40,60,60,60,40,55,66,60)           #PC. numero de datos en cada grupo          \n",
    "y2.=c(18,15,20,15,17,18,9,20,15,30,20,20,35,20,25,20,20,20)        #PC. \n",
    "y3.=c(12,15,15,10,10,9,13,10,15,24,30,10,3,10,15,10,10,8)\n",
    "y4.=c(7,8,10,10,10,5,19,8,4,18,7,7,1.5,8,10,10,2,7)\n",
    "y5.=c(3,2,5,5,7,4,5,2,1,8,3,3,0.5,2,10,5,2,5)\n",
    "\n",
    "y1= c(y1.,sum(y1.[1:b]))       \n",
    "y2= c(y2.,sum(y2.[1:b]))              #RECUERDA        QUE TIENES QUE AÑADIR Y3,Y4 HASTA K GRUPOS\n",
    "y3= c(y3.,sum(y3.[1:b])) \n",
    "y4= c(y4.,sum(y4.[1:b]))\n",
    "y5= c(y5.,sum(y5.[1:b]))\n",
    "\n",
    "Bloques= c(\"b1\",\"b2\",\"b3\",\"b4\",\"b5\",\"b6\",\"b7\",\"b8\",\"b9\",\"b10\",\"b11\",\"b12\",\"b13\",\"b14\",\"b15\",\"b16\",\"b17\",\"b18\",\"Tj\")    ##PC El nombre de los bloques\n",
    "\n",
    "\n",
    "df.=data.frame(Bloques,y1,y2,y3,y4,y5)           ##Nombre de las columnas hasta y_k\n",
    "Ti=c(df.$y1+y2+y3+y4+y5)                         ##La suma de las yk\n",
    "\n",
    "df=data.frame(Bloques,y1,y2,y3,y4,y5,Ti)         ###Solo añades los yk             \n",
    "df\n",
    "ti=df$Ti[1:b]                                    \n",
    "\n",
    "tj=unlist(c(tail(df[2:4],1)))          #solo pones df[2:k-1] Esto porque el ultimo elemento es una suma\n",
    "\n",
    "T=tail(Ti,1)\n",
    "\n",
    "yij=c(y1[1:b],y2[1:b],y3[1:b],y4[1:b],y5[1:b])       #añades yi[1:b]                     \n",
    "\n",
    "\n",
    "\n",
    "            \n"
   ]
  },
  {
   "cell_type": "code",
   "execution_count": 2,
   "id": "annual-glossary",
   "metadata": {},
   "outputs": [
    {
     "data": {
      "text/html": [
       "28443.8888888889"
      ],
      "text/latex": [
       "28443.8888888889"
      ],
      "text/markdown": [
       "28443.8888888889"
      ],
      "text/plain": [
       "[1] 28443.89"
      ]
     },
     "metadata": {},
     "output_type": "display_data"
    }
   ],
   "source": [
    "#Primero a calcular la SSTR\n",
    "SSTR= sum((tj^2)/b)-T^2/(b*k)\n",
    "SSTR"
   ]
  },
  {
   "cell_type": "code",
   "execution_count": 3,
   "id": "biological-process",
   "metadata": {},
   "outputs": [
    {
     "data": {
      "text/html": [
       "0"
      ],
      "text/latex": [
       "0"
      ],
      "text/markdown": [
       "0"
      ],
      "text/plain": [
       "[1] 0"
      ]
     },
     "metadata": {},
     "output_type": "display_data"
    }
   ],
   "source": [
    "#Ahora calculemos la SSB\n",
    "SSB= sum(ti^2/k)-T^2/(b*k)\n",
    "SSB"
   ]
  },
  {
   "cell_type": "code",
   "execution_count": 4,
   "id": "formal-hudson",
   "metadata": {},
   "outputs": [
    {
     "data": {
      "text/html": [
       "33858.5"
      ],
      "text/latex": [
       "33858.5"
      ],
      "text/markdown": [
       "33858.5"
      ],
      "text/plain": [
       "[1] 33858.5"
      ]
     },
     "metadata": {},
     "output_type": "display_data"
    }
   ],
   "source": [
    "#Ahora calculemos la SSTOT\n",
    "SSTOT=sum(yij^2)-T^2/(b*k)\n",
    "SSTOT"
   ]
  },
  {
   "cell_type": "code",
   "execution_count": 5,
   "id": "electric-newfoundland",
   "metadata": {},
   "outputs": [
    {
     "data": {
      "text/html": [
       "5414.61111111111"
      ],
      "text/latex": [
       "5414.61111111111"
      ],
      "text/markdown": [
       "5414.61111111111"
      ],
      "text/plain": [
       "[1] 5414.611"
      ]
     },
     "metadata": {},
     "output_type": "display_data"
    }
   ],
   "source": [
    "#Calculemos la SSE\n",
    "SSE= SSTOT-SSTR-SSB\n",
    "SSE"
   ]
  },
  {
   "cell_type": "code",
   "execution_count": 6,
   "id": "graphic-reggae",
   "metadata": {},
   "outputs": [
    {
     "data": {
      "text/html": [
       "7110.97222222222"
      ],
      "text/latex": [
       "7110.97222222222"
      ],
      "text/markdown": [
       "7110.97222222222"
      ],
      "text/plain": [
       "[1] 7110.972"
      ]
     },
     "metadata": {},
     "output_type": "display_data"
    },
    {
     "data": {
      "text/html": [
       "0"
      ],
      "text/latex": [
       "0"
      ],
      "text/markdown": [
       "0"
      ],
      "text/plain": [
       "[1] 0"
      ]
     },
     "metadata": {},
     "output_type": "display_data"
    },
    {
     "data": {
      "text/html": [
       "79.6266339869281"
      ],
      "text/latex": [
       "79.6266339869281"
      ],
      "text/markdown": [
       "79.6266339869281"
      ],
      "text/plain": [
       "[1] 79.62663"
      ]
     },
     "metadata": {},
     "output_type": "display_data"
    }
   ],
   "source": [
    "#LOS MS O MEAN SQ\n",
    "MSTR=SSTR/(k-1)\n",
    "MSB=SSB/(b-1)\n",
    "MSE=SSE/((b-1)*(k-1))\n",
    "MSTR\n",
    "MSB\n",
    "MSE"
   ]
  },
  {
   "cell_type": "code",
   "execution_count": 7,
   "id": "greater-export",
   "metadata": {},
   "outputs": [
    {
     "data": {
      "text/html": [
       "89.3039409827319"
      ],
      "text/latex": [
       "89.3039409827319"
      ],
      "text/markdown": [
       "89.3039409827319"
      ],
      "text/plain": [
       "[1] 89.30394"
      ]
     },
     "metadata": {},
     "output_type": "display_data"
    },
    {
     "data": {
      "text/html": [
       "0"
      ],
      "text/latex": [
       "0"
      ],
      "text/markdown": [
       "0"
      ],
      "text/plain": [
       "[1] 0"
      ]
     },
     "metadata": {},
     "output_type": "display_data"
    }
   ],
   "source": [
    "#Los valores de F\n",
    "F1=  MSTR/MSE  #Para ver si las medias de los grupos son iguales\n",
    "F2=    MSB/MSE##Para ver si las medias entre bloques son iguales\n",
    "F1\n",
    "F2"
   ]
  },
  {
   "cell_type": "code",
   "execution_count": 8,
   "id": "suited-folder",
   "metadata": {},
   "outputs": [
    {
     "data": {
      "text/html": [
       "2.50662101608376"
      ],
      "text/latex": [
       "2.50662101608376"
      ],
      "text/markdown": [
       "2.50662101608376"
      ],
      "text/plain": [
       "[1] 2.506621"
      ]
     },
     "metadata": {},
     "output_type": "display_data"
    },
    {
     "data": {
      "text/html": [
       "1.7751757486837"
      ],
      "text/latex": [
       "1.7751757486837"
      ],
      "text/markdown": [
       "1.7751757486837"
      ],
      "text/plain": [
       "[1] 1.775176"
      ]
     },
     "metadata": {},
     "output_type": "display_data"
    }
   ],
   "source": [
    "##Calculemos la f de tablas\n",
    "f1=qf(1-alpha,k-1,(b-1)*(k-1))\n",
    "f2=qf(1-alpha,b-1,(b-1)*(k-1))\n",
    "f1\n",
    "f2"
   ]
  },
  {
   "cell_type": "code",
   "execution_count": 9,
   "id": "covered-fighter",
   "metadata": {},
   "outputs": [
    {
     "data": {
      "text/html": [
       "TRUE"
      ],
      "text/latex": [
       "TRUE"
      ],
      "text/markdown": [
       "TRUE"
      ],
      "text/plain": [
       "[1] TRUE"
      ]
     },
     "metadata": {},
     "output_type": "display_data"
    },
    {
     "data": {
      "text/html": [
       "FALSE"
      ],
      "text/latex": [
       "FALSE"
      ],
      "text/markdown": [
       "FALSE"
      ],
      "text/plain": [
       "[1] FALSE"
      ]
     },
     "metadata": {},
     "output_type": "display_data"
    }
   ],
   "source": [
    "##Ahora veamos si rechazamos nuestras hipotesis nulas. \n",
    "#Estas se rechazan si Fi>fi. Si esto ocurre podemos decir que \n",
    "#las medias de los grupos y de los bloques son estadisticamente distintas\n",
    "F1>f1  ##Sobre grupos de tratamiento\n",
    "F2>f2   ##Sobre bloques\n"
   ]
  },
  {
   "cell_type": "markdown",
   "id": "ecological-approval",
   "metadata": {},
   "source": []
  },
  {
   "cell_type": "markdown",
   "id": "forty-baseline",
   "metadata": {},
   "source": [
    "### Conclusiones\n",
    "(rechazo hipotesis nula de que $\\mu_i = \\mu_j $ )\n",
    "Por obviedad, con un 95% de confianza podemos asegurar que existe evidencia estadística para decir que los promedios de cada quintil son distintos.\n",
    "\n",
    "(acepto Hipotesis nula de que $\\beta_i = \\beta_j$)\n",
    "Pero también podemos notar que con un 95% de confianza, hay evidencia estadística de que los promedios de las estimaciones de distribucion son iguales entre cada estudiante. Es decir, hay consenso entre los estudiantes encuestados de como se distribuyen los ingresos en México"
   ]
  }
 ],
 "metadata": {
  "kernelspec": {
   "display_name": "R",
   "language": "R",
   "name": "ir"
  },
  "language_info": {
   "codemirror_mode": "r",
   "file_extension": ".r",
   "mimetype": "text/x-r-source",
   "name": "R",
   "pygments_lexer": "r",
   "version": "3.6.1"
  }
 },
 "nbformat": 4,
 "nbformat_minor": 5
}
